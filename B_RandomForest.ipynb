{
 "cells": [
  {
   "cell_type": "code",
   "execution_count": 26,
   "id": "e953ad5a",
   "metadata": {},
   "outputs": [],
   "source": [
    "import pandas as pd\n",
    "from sklearn.ensemble import RandomForestClassifier\n",
    "from sklearn.metrics import accuracy_score, classification_report\n",
    "from sklearn.tree import DecisionTreeClassifier\n",
    "from sklearn.preprocessing import StandardScaler\n",
    "from sklearn.model_selection import train_test_split\n",
    "\n",
    "data=pd.read_csv('pima.csv')\n",
    "data.head()"
   ]
  },
  {
   "cell_type": "code",
   "execution_count": 27,
   "id": "9020bce9",
   "metadata": {},
   "outputs": [],
   "source": [
    "X=data.iloc[:,0:8]\n",
    "Y=data[\"Outcome\"]\n",
    "scaler=StandardScaler()\n",
    "X_scaled=scaler.fit_transform(X)\n",
    "X_train,X_test,Y_train,Y_test=train_test_split(X_scaled,Y,stratify=Y,test_size=0.10,random_state=34)\n",
    "\n",
    "model1= RandomForestClassifier(n_estimators=100)\n",
    "model1.fit(X_train,Y_train)\n",
    "\n",
    "model2= DecisionTreeClassifier()\n",
    "model2.fit(X_train,Y_train)\n",
    "\n",
    "y_pred1=model1.predict(X_test)\n",
    "y_pred2=model2.predict(X_test)\n",
    "\n",
    "print(\"RANDOM FOREST CLASSIFER:\")\n",
    "print(\"Accuracy:\",accuracy_score(Y_test,y_pred1))\n",
    "print(\"\\nClassification Report:\\n\",classification_report(Y_test,y_pred1))"
   ]
  },
  {
   "cell_type": "code",
   "execution_count": 28,
   "id": "dd062dab",
   "metadata": {},
   "outputs": [
    {
     "name": "stdout",
     "output_type": "stream",
     "text": [
      "DECISION TREE:\n",
      "Accuracy: 0.7142857142857143\n",
      "\n",
      "Classification Report:\n",
      "               precision    recall  f1-score   support\n",
      "\n",
      "           0       0.77      0.80      0.78        50\n",
      "           1       0.60      0.56      0.58        27\n",
      "\n",
      "    accuracy                           0.71        77\n",
      "   macro avg       0.68      0.68      0.68        77\n",
      "weighted avg       0.71      0.71      0.71        77\n",
      "\n"
     ]
    }
   ],
   "source": [
    "print(\"DECISION TREE:\")\n",
    "print(\"Accuracy:\",accuracy_score(Y_test,y_pred2))\n",
    "print(\"\\nClassification Report:\\n\",classification_report(Y_test,y_pred2))"
   ]
  }
 ],
 "metadata": {
  "kernelspec": {
   "display_name": "Python 3 (ipykernel)",
   "language": "python",
   "name": "python3"
  },
  "language_info": {
   "codemirror_mode": {
    "name": "ipython",
    "version": 3
   },
   "file_extension": ".py",
   "mimetype": "text/x-python",
   "name": "python",
   "nbconvert_exporter": "python",
   "pygments_lexer": "ipython3",
   "version": "3.8.10"
  }
 },
 "nbformat": 4,
 "nbformat_minor": 5
}
